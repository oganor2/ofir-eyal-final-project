{
  "cells": [
    {
      "cell_type": "markdown",
      "metadata": {
        "id": "vWmc_s2ezvU0"
      },
      "source": [
        "# Run streamlit app from a Google Colab Notebook\n"
      ]
    },
    {
      "cell_type": "code",
      "execution_count": 6,
      "metadata": {
        "id": "RvlYkCQ9vFiy"
      },
      "outputs": [],
      "source": [
        "!pip install -q streamlit\n",
        "!pip install -q xlsxwriter\n",
        "!pip install -q surprise"
      ]
    },
    {
      "cell_type": "code",
      "execution_count": null,
      "metadata": {
        "id": "oYmzRE-vEShR"
      },
      "outputs": [],
      "source": [
        "import zipfile\n",
        "\n",
        "with zipfile.ZipFile(\"files.zip\",\"r\") as zip_ref:\n",
        "    zip_ref.extractall(\"data\")"
      ]
    },
    {
      "cell_type": "markdown",
      "metadata": {
        "id": "waCfwniZOow8"
      },
      "source": [
        "## Streamlit app \n"
      ]
    },
    {
      "cell_type": "code",
      "execution_count": null,
      "metadata": {
        "colab": {
          "base_uri": "https://localhost:8080/"
        },
        "id": "meJ36PefNftd",
        "outputId": "2843bf62-f660-4672-8a2a-2a7f6caf5aec"
      },
      "outputs": [
        {
          "name": "stdout",
          "output_type": "stream",
          "text": [
            "Overwriting app.py\n"
          ]
        }
      ],
      "source": [
        "%%writefile app.py\n",
        "\n",
        "import pandas as pd\n",
        "import numpy as np\n",
        "from surprise import SVD, Dataset, Reader, SVDpp, KNNBaseline, SlopeOne\n",
        "from math import isnan\n",
        "from surprise import Dataset, NormalPredictor, Reader\n",
        "from surprise.model_selection import cross_validate\n",
        "\n",
        "def get_courses(user_id, k=5, user_data=None,\n",
        "                no_exam=False, days='', past_course=None):\n",
        "    r = Reader(sep=\",\", skip_lines=1)\n",
        "    X = Dataset.load_from_df(pd.read_csv('data/past_ranking.csv'), reader=r).build_full_trainset()\n",
        "    algo = SVD()\n",
        "    algo.fit(X)\n",
        "    courses = pd.read_csv('data/courses.csv')\n",
        "\n",
        "\n",
        "    if no_exam:\n",
        "        courses = courses[courses['exam'] == 0]\n",
        "    if len(days) > 0:\n",
        "        courses = courses[courses['day'].isin(days)]\n",
        "    if past_course is not None:\n",
        "        courses = courses[~courses['course'].isin(past_course)]\n",
        "    if user_data is not None:\n",
        "        data = pd.merge(user_data, courses, on='course')[['user_id', 'course_id', 'ranking']]\n",
        "        courses = courses[~courses['course'].isin(list(user_data['course']))]\n",
        "        X_user = Dataset.load_from_df(data, reader=r).build_full_trainset()\n",
        "        algo.fit(X_user)\n",
        "    est = {}\n",
        "    for i, row in courses.iterrows():\n",
        "        est[row['course_id']] = algo.predict(user_id, row['course_id']).est\n",
        "        est[row['course_id']] = 2\n",
        "\n",
        "    courses['rating'] = est.values()\n",
        "    courses = courses.sort_values(by=['rating', 'course_id'])\n",
        "\n",
        "    return courses.iloc[:k]\n",
        "\n",
        "def to_excel(df, df2):\n",
        "    import xlsxwriter\n",
        "    from io import BytesIO\n",
        "    output = BytesIO()\n",
        "    writer = pd.ExcelWriter(output, engine='xlsxwriter')\n",
        "    df.to_excel(writer, index=False, sheet_name='final_schedule')\n",
        "    df2.to_excel(writer, index=False, sheet_name='courses_data')\n",
        "\n",
        "    workbook = writer.book\n",
        "    worksheet = writer.sheets['final_schedule']\n",
        "    format1 = workbook.add_format({'num_format': '0.00'})\n",
        "    worksheet.set_column('A:A', None, format1)\n",
        "    writer.save()\n",
        "    processed_data = output.getvalue()\n",
        "    return processed_data\n",
        "\n",
        "###### Our Streamlit app\n",
        "import streamlit as st\n",
        "import pandas as pd\n",
        "import numpy as np\n",
        "from PIL import Image\n",
        "import surprise\n",
        "\n",
        "### main page\n",
        "image = Image.open('data/fig.png')\n",
        "\n",
        "st.image(image, width=240)\n",
        "\n",
        "title = '<p style=\"font-family:Impact; color:#8b2d2d; font-size: 44px;\">Schedule Me</p>'\n",
        "st.markdown(title, unsafe_allow_html=True)\n",
        "user_id=(pd.read_csv('data/past_ranking.csv')['user_id']).max()+1\n",
        "\n",
        "title2 = '<p style=\"font-family:Bahnschrift SemiBold; color:Black; font-size: 23px;\">A recommendation system for your weekly class schedule</p>'\n",
        "st.markdown(title2, unsafe_allow_html=True)\n",
        "env = st.selectbox(\"select Default/Personalized\", ['', 'Default', 'Personalized'])\n",
        "if env == '':\n",
        "    st.write('Default- a default schedule of courses based on the most popular courses among the student sample')\n",
        "    st.write('Personalized- a schedule of courses based on your preferences')\n",
        "\n",
        "    st.write(' - - - - - - - - - - - - - - - - - - - - - - - -  - - - - ')\n",
        "    title3 = '<p style=\"font-family:Bahnschrift; color:Black; font-size: 18px;\">With the help of our system, you can find the best courses for YOU- Taking into account your constraints, the system offers you courses that are most likely to be of interest to you based on ratings from a sample of students!</p>'\n",
        "    st.markdown(title3, unsafe_allow_html=True)\n",
        "\n",
        "if env == 'Default':\n",
        "    if \"submit_default\" not in st.session_state:\n",
        "        st.session_state[\"submit_default\"] = False\n",
        "\n",
        "    st.subheader('If you have limitations, please enter them')\n",
        "\n",
        "    # more filters\n",
        "    k = st.text_input('Please enter the required number of courses')\n",
        "    if k == '':\n",
        "        k = 5\n",
        "    no_exam = st.checkbox('I want only courses without an exam')\n",
        "    available_days = st.multiselect('Decide which days you want to study',\n",
        "                                    ['Sunday', 'Monday', 'Tuesday', 'Wednesday', 'Thursday', 'Friday'])\n",
        "    days = ['Sunday', 'Monday', 'Tuesday', 'Wednesday', 'Thursday', 'Friday']\n",
        "    available_days = [days.index(d) + 1 for d in available_days]\n",
        "\n",
        "    if st.button('submit'):\n",
        "        st.session_state[\"submit_default\"] = True\n",
        "    change_part = False\n",
        "    if st.session_state['submit_default'] == True and change_part == False:\n",
        "        st.write(\"Here is a default courses schedule based on the most popular courses among the student sample\")\n",
        "        chosen = get_courses(user_id=user_id, k=int(k), no_exam=no_exam, days=available_days)\n",
        "\n",
        "        # just make it looking good\n",
        "        final_df = chosen[['course', 'course_id', 'exam', 'day']]\n",
        "        days_dict = {1: \"Sunday\", 2: \"Monday\", 3: \"Tuesday\", 4: \"Wednesday\", 5: \"Thursday\", 6: \"Friday\"}\n",
        "        final_df['Day'] = final_df['day'].map(days_dict)\n",
        "        exam_dict = {0: \"No Exam\", 1: \"With Exam\"}\n",
        "        final_df['Exam'] = final_df['exam'].map(exam_dict)\n",
        "        st.write(final_df[['course', 'course_id', 'Exam', 'Day']])\n",
        "\n",
        "        new_dict = {}\n",
        "        for day in days:\n",
        "            new_dict[day] = []\n",
        "        for i, row in final_df.iterrows():\n",
        "            new_dict[row['Day']].append(row['course'])\n",
        "        pivotted = pd.DataFrame(dict([(k, pd.Series(v)) for k, v in new_dict.items()]))\n",
        "\n",
        "        chosen_courses = list(chosen['course'])\n",
        "\n",
        "        courses_dict = {'courses_list': chosen_courses}\n",
        "        courses_list = pd.DataFrame.from_dict(courses_dict)\n",
        "\n",
        "        change_part = st.checkbox('I have already took some of these courses')\n",
        "        if change_part:\n",
        "            unwanted_courses = st.multiselect('Please select the unwanted courses', chosen_courses)\n",
        "            # st.write('new df without unwanted_courses')\n",
        "            if st.button('get a new schdule'):\n",
        "\n",
        "                chosen = get_courses(user_id=user_id, k=int(k), no_exam=no_exam, days=available_days,\n",
        "                                     past_course=unwanted_courses)\n",
        "\n",
        "                # just make it looking good\n",
        "                final_df = chosen[['course', 'course_id', 'exam', 'day']]\n",
        "                days_dict = {1: \"Sunday\", 2: \"Monday\", 3: \"Tuesday\", 4: \"Wednesday\", 5: \"Thursday\", 6: \"Friday\"}\n",
        "                final_df['Day'] = final_df['day'].map(days_dict)\n",
        "                exam_dict = {0: \"No Exam\", 1: \"With Exam\"}\n",
        "                final_df['Exam'] = final_df['exam'].map(exam_dict)\n",
        "\n",
        "                # st.write('new df without the unwanted courses')\n",
        "                st.write(final_df[['course', 'course_id', 'Exam', 'Day']])\n",
        "\n",
        "                new_dict = {}\n",
        "                for day in days:\n",
        "                    new_dict[day] = []\n",
        "                for i, row in final_df.iterrows():\n",
        "                    new_dict[row['Day']].append(row['course'])\n",
        "                pivotted = pd.DataFrame(dict([(k, pd.Series(v)) for k, v in new_dict.items()]))\n",
        "\n",
        "                chosen_courses = list(chosen['course'])\n",
        "\n",
        "                courses_dict = {'courses_list': chosen_courses}\n",
        "                courses_list = pd.DataFrame.from_dict(courses_dict)\n",
        "\n",
        "        df_xlsx = to_excel(pivotted, final_df[['course', 'course_id', 'Exam', 'Day']])\n",
        "        st.download_button(label='📥 Download courses schedule',\n",
        "                           data=df_xlsx,\n",
        "                           file_name='courses schedule.xlsx')\n",
        "\n",
        "if env == 'Personalized':\n",
        "    if \"submit_person\" not in st.session_state:\n",
        "        st.session_state[\"submit_person\"] = False\n",
        "\n",
        "    st.subheader(\"Enter courses you have taken and rank how much did you like them:\")\n",
        "\n",
        "\n",
        "    @st.cache(allow_output_mutation=True)\n",
        "    def get_data():\n",
        "        return []\n",
        "\n",
        "\n",
        "    # courses= df(course,course_id,day,test)\n",
        "    # past_ranking= df(user_id, course_id,ranking)\n",
        "\n",
        "    # user_id = past_ranking.user_id.max()+1\n",
        "    courses=pd.read_csv('./data/courses.csv')\n",
        "\n",
        "    course = st.selectbox('Select a course', courses.course.unique())\n",
        "    #course = st.text_input(\"course\")\n",
        "    rating = st.slider(\"rating\", 0, 5)\n",
        "\n",
        "    if st.button(\"Add row\"):\n",
        "        get_data().append({\"user_id\": user_id, \"course\": course, \"ranking\": rating})\n",
        "\n",
        "    liked_courses = pd.DataFrame(get_data())\n",
        "    if len(liked_courses) > 0:\n",
        "        st.write(liked_courses[['course', 'ranking']])\n",
        "\n",
        "    # more filters\n",
        "    k = st.text_input('Please enter the required number of courses')\n",
        "    if k == '':\n",
        "        k = 5\n",
        "    no_exam = st.checkbox('I want only courses without an exam')\n",
        "    available_days = st.multiselect('Decide which days you want to study',\n",
        "                                    ['Sunday', 'Monday', 'Tuesday', 'Wednesday', 'Thursday', 'Friday'])\n",
        "    days = ['Sunday', 'Monday', 'Tuesday', 'Wednesday', 'Thursday', 'Friday']\n",
        "    available_days = [days.index(d) + 1 for d in available_days]\n",
        "    # st.write(user_id,k,no_exam,available_days)\n",
        "\n",
        "    if st.button('submit'):\n",
        "        st.session_state['submit_person'] = True\n",
        "\n",
        "    change_part = False\n",
        "    if st.session_state['submit_person'] == True and change_part == False:\n",
        "        #st.write(liked_courses)\n",
        "        chosen = get_courses(user_id=user_id, k=int(k), no_exam=no_exam, days=available_days, user_data=liked_courses)\n",
        "\n",
        "        # just make it looking good\n",
        "        final_df = chosen[['course', 'course_id', 'exam', 'day']]\n",
        "        days_dict = {1: \"Sunday\", 2: \"Monday\", 3: \"Tuesday\", 4: \"Wednesday\", 5: \"Thursday\", 6: \"Friday\"}\n",
        "        final_df['Day'] = final_df['day'].map(days_dict)\n",
        "        exam_dict = {0: \"No Exam\", 1: \"With Exam\"}\n",
        "        final_df['Exam'] = final_df['exam'].map(exam_dict)\n",
        "        st.write(final_df[['course', 'course_id', 'Exam', 'Day']])\n",
        "\n",
        "        new_dict = {}\n",
        "        for day in days:\n",
        "            new_dict[day] = []\n",
        "        for i, row in final_df.iterrows():\n",
        "            new_dict[row['Day']].append(row['course'])\n",
        "        pivotted = pd.DataFrame(dict([(k, pd.Series(v)) for k, v in new_dict.items()]))\n",
        "\n",
        "        chosen_courses = list(chosen['course'])\n",
        "\n",
        "        courses_dict = {'courses_list': chosen_courses}\n",
        "        courses_list = pd.DataFrame.from_dict(courses_dict)\n",
        "\n",
        "        change_part = st.checkbox('I have already made some of these courses')\n",
        "        if change_part:\n",
        "            unwanted_courses = st.multiselect('Please select the unwanted courses', chosen_courses)\n",
        "            st.write('new df without unwanted_courses')\n",
        "            if st.button('get a new schdule'):\n",
        "                chosen = get_courses(user_id=user_id, k=int(k), no_exam=no_exam, days=available_days,\n",
        "                                     past_course=unwanted_courses, user_data=liked_courses)\n",
        "                st.write('new df without the unwanted courses')\n",
        "\n",
        "                # just make it looking good\n",
        "                final_df = chosen[['course', 'course_id', 'exam', 'day']]\n",
        "                days_dict = {1: \"Sunday\", 2: \"Monday\", 3: \"Tuesday\", 4: \"Wednesday\", 5: \"Thursday\", 6: \"Friday\"}\n",
        "                final_df['Day'] = final_df['day'].map(days_dict)\n",
        "                exam_dict = {0: \"No Exam\", 1: \"With Exam\"}\n",
        "                final_df['Exam'] = final_df['exam'].map(exam_dict)\n",
        "                st.write(final_df[['course', 'course_id', 'Exam', 'Day']])\n",
        "\n",
        "                new_dict = {}\n",
        "                for day in days:\n",
        "                    new_dict[day] = []\n",
        "                for i, row in final_df.iterrows():\n",
        "                    new_dict[row['Day']].append(row['course'])\n",
        "                pivotted = pd.DataFrame(dict([(k, pd.Series(v)) for k, v in new_dict.items()]))\n",
        "\n",
        "                chosen_courses = list(chosen['course'])\n",
        "\n",
        "                courses_dict = {'courses_list': chosen_courses}\n",
        "                courses_list = pd.DataFrame.from_dict(courses_dict)\n",
        "\n",
        "        df_xlsx = to_excel(pivotted, final_df[['course', 'course_id', 'Exam', 'Day']])\n",
        "        st.download_button(label='📥 Download courses schedule',\n",
        "                           data=df_xlsx,\n",
        "                           file_name='courses schedule.xlsx')\n"
      ]
    },
    {
      "cell_type": "markdown",
      "metadata": {
        "id": "xZlEJkmSOoxC"
      },
      "source": [
        "## Install localtunnel"
      ]
    },
    {
      "cell_type": "code",
      "execution_count": null,
      "metadata": {
        "colab": {
          "base_uri": "https://localhost:8080/"
        },
        "id": "ZAyqQCQVOoxC",
        "outputId": "81837d76-4c57-45dd-9677-f87b9ea55380"
      },
      "outputs": [
        {
          "name": "stdout",
          "output_type": "stream",
          "text": [
            "\u001b[K\u001b[?25h\u001b[37;40mnpm\u001b[0m \u001b[0m\u001b[30;43mWARN\u001b[0m \u001b[0m\u001b[35msaveError\u001b[0m ENOENT: no such file or directory, open '/content/package.json'\n",
            "\u001b[0m\u001b[37;40mnpm\u001b[0m \u001b[0m\u001b[30;43mWARN\u001b[0m \u001b[0m\u001b[35menoent\u001b[0m ENOENT: no such file or directory, open '/content/package.json'\n",
            "\u001b[0m\u001b[37;40mnpm\u001b[0m \u001b[0m\u001b[30;43mWARN\u001b[0m\u001b[35m\u001b[0m content No description\n",
            "\u001b[0m\u001b[37;40mnpm\u001b[0m \u001b[0m\u001b[30;43mWARN\u001b[0m\u001b[35m\u001b[0m content No repository field.\n",
            "\u001b[0m\u001b[37;40mnpm\u001b[0m \u001b[0m\u001b[30;43mWARN\u001b[0m\u001b[35m\u001b[0m content No README data\n",
            "\u001b[0m\u001b[37;40mnpm\u001b[0m \u001b[0m\u001b[30;43mWARN\u001b[0m\u001b[35m\u001b[0m content No license field.\n",
            "\u001b[0m\n",
            "\u001b[K\u001b[?25h+ localtunnel@2.0.2\n",
            "updated 1 package and audited 36 packages in 1.032s\n",
            "\n",
            "3 packages are looking for funding\n",
            "  run `npm fund` for details\n",
            "\n",
            "found \u001b[92m0\u001b[0m vulnerabilities\n",
            "\n"
          ]
        }
      ],
      "source": [
        "!npm install localtunnel"
      ]
    },
    {
      "cell_type": "markdown",
      "metadata": {
        "id": "h_KW9juhOCuH"
      },
      "source": [
        "## Run streamlit and Expose the port 8501\n",
        "Then just click in the `url` showed.\n",
        "\n",
        "A `log.txt`file will be created."
      ]
    },
    {
      "cell_type": "code",
      "execution_count": null,
      "metadata": {
        "colab": {
          "base_uri": "https://localhost:8080/"
        },
        "id": "XTGAizLhOIgC",
        "outputId": "4c51e00b-cbf3-48ba-d612-97fa5b1045c7"
      },
      "outputs": [
        {
          "output_type": "stream",
          "name": "stdout",
          "text": [
            "\u001b[K\u001b[?25hnpx: installed 22 in 3.074s\n",
            "your url is: https://shaggy-glasses-ring-34-73-21-245.loca.lt\n"
          ]
        }
      ],
      "source": [
        "!streamlit run /content/app.py &>/content/logs.txt &\n",
        "!npx localtunnel --port 8501"
      ]
    },
    {
      "cell_type": "markdown",
      "metadata": {
        "id": "GVz-H__pOoxG"
      },
      "source": [
        "[![ko-fi](https://www.ko-fi.com/img/githubbutton_sm.svg)](https://ko-fi.com/Y8Y3VYYE)"
      ]
    }
  ],
  "metadata": {
    "colab": {
      "provenance": []
    },
    "kernelspec": {
      "display_name": "Python 3",
      "name": "python3"
    }
  },
  "nbformat": 4,
  "nbformat_minor": 0
}